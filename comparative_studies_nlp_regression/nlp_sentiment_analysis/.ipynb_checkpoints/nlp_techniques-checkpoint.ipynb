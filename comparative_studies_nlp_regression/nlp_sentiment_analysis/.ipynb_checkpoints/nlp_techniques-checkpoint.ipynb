{
 "cells": [
  {
   "cell_type": "markdown",
   "metadata": {},
   "source": [
    "### Comparing different Natural Language Processing techniques."
   ]
  },
  {
   "cell_type": "code",
   "execution_count": 2,
   "metadata": {},
   "outputs": [
    {
     "ename": "ModuleNotFoundError",
     "evalue": "No module named 'numpy'",
     "output_type": "error",
     "traceback": [
      "\u001b[0;31m---------------------------------------------------------------------------\u001b[0m",
      "\u001b[0;31mModuleNotFoundError\u001b[0m                       Traceback (most recent call last)",
      "Cell \u001b[0;32mIn[2], line 1\u001b[0m\n\u001b[0;32m----> 1\u001b[0m \u001b[38;5;28;01mimport\u001b[39;00m \u001b[38;5;21;01mnumpy\u001b[39;00m \u001b[38;5;28;01mas\u001b[39;00m \u001b[38;5;21;01mnp\u001b[39;00m\n\u001b[1;32m      2\u001b[0m \u001b[38;5;66;03m# import pandas as pd\u001b[39;00m\n\u001b[1;32m      3\u001b[0m \u001b[38;5;66;03m# import matplotlib.pyplot as plt\u001b[39;00m\n\u001b[1;32m      5\u001b[0m \u001b[38;5;28;01mimport\u001b[39;00m \u001b[38;5;21;01msys\u001b[39;00m\n",
      "\u001b[0;31mModuleNotFoundError\u001b[0m: No module named 'numpy'"
     ]
    }
   ],
   "source": [
    "import numpy as np\n",
    "# import pandas as pd\n",
    "# import matplotlib.pyplot as plt\n",
    "\n",
    "import sys\n",
    "sys.executable\n",
    "\n",
    "# news_df = pd.read_csv(\"../data/financial_news/stock_news_api/financial_news_data_stocknewsapi_AAPL.csv\")\n",
    "# news_df.head()"
   ]
  },
  {
   "cell_type": "code",
   "execution_count": null,
   "metadata": {},
   "outputs": [],
   "source": [
    "plt.figure(figsize=(8, 4))\n",
    "plt.hist(news_df[\"sentiment\"])\n",
    "plt.show()"
   ]
  },
  {
   "cell_type": "markdown",
   "metadata": {},
   "source": [
    "### Text preprocessing\n",
    "\n",
    "First we will perform text preprocessing using the following steps:\n",
    "\n",
    "1. Converting the text to lowercase to avoid duplicates.\n",
    "2. Remove punctation as it wouldn't make any difference in the analysis.\n",
    "3. Tokenization: Converting the article text into an array of words/tokens.\n",
    "4. Remove the stopwords that wouldn't make a difference to the sentiment analysis e.g. is, be, was, etc.\n",
    "5. Lemmatization or Stemming: Converting each word to its root word e.g. running->run, better->good.\n",
    "6. Add new columns to the dataset with the processed text "
   ]
  },
  {
   "cell_type": "code",
   "execution_count": null,
   "metadata": {},
   "outputs": [],
   "source": [
    "import re\n",
    "import nltk\n",
    "from nltk.corpus import stopwords\n",
    "from nltk.stem import PorterStemmer, WordNetLemmatizer\n",
    "from nltk.tokenize import word_tokenize\n",
    "from sklearn.feature_extraction.text import CountVectorizer\n",
    "import string\n",
    "\n",
    "# nltk.download('stopwords')\n",
    "# nltk.download('punkt')\n",
    "# nltk.download('wordnet')\n",
    "\n",
    "\n",
    "def preprocess_text(text):\n",
    "    text = text.lower()\n",
    "\n",
    "    # removing punctutation\n",
    "    text = ''.join([char for char in text if char not in string.punctuation])\n",
    "\n",
    "    tokens = word_tokenize(text)\n",
    "\n",
    "    tokens = [word for word in tokens if word not in set(stopwords.words(\"english\"))]\n",
    "    \n",
    "    # Converting words to their corresponding roots\n",
    "    lemmatizer = WordNetLemmatizer()\n",
    "    porter = PorterStemmer()\n",
    "    \n",
    "    tokens = [lemmatizer.lemmatize(word) for word in tokens]\n",
    "    \n",
    "    processed_text = \" \".join(tokens)\n",
    "\n",
    "    # print(tokens)\n",
    "    return processed_text\n",
    "\n",
    "\n",
    "news_df[\"processed_text\"] = news_df[\"text\"].apply(preprocess_text)\n",
    "news_df[\"processed_title\"] = news_df[\"title\"].apply(preprocess_text)\n",
    "\n",
    "news_df.head()\n",
    "print(news_df[['text', 'processed_text']].head())"
   ]
  },
  {
   "cell_type": "markdown",
   "metadata": {},
   "source": [
    "The next step is to convert the processed text into a numerical value in order to apply machine learning models on this data. One of the popular techniques for this purpose is the bag-of-words model including the CountVectorizer technique which represents each document (in this case each news article) as a vector of word frequencies."
   ]
  },
  {
   "cell_type": "code",
   "execution_count": null,
   "metadata": {},
   "outputs": [],
   "source": [
    "from sklearn.feature_extraction.text import CountVectorizer\n",
    "\n",
    "vectorizer = CountVectorizer()\n",
    "\n",
    "X = vectorizer.fit_transform(news_df[\"processed_text\"])\n",
    "\n",
    "print(vectorizer.get_feature_names_out())\n",
    "\n",
    "df_bow = pd.DataFrame(X.toarray(), columns=vectorizer.get_feature_names_out())\n",
    "df_bow.head()\n"
   ]
  },
  {
   "cell_type": "markdown",
   "metadata": {},
   "source": [
    "First we split our dataset into training and testing sets to allow us to train the model on one subset and then evaluate its performance on the other subset."
   ]
  },
  {
   "cell_type": "code",
   "execution_count": null,
   "metadata": {},
   "outputs": [],
   "source": [
    "from sklearn.model_selection import train_test_split\n",
    "\n",
    "X_train, X_test, y_train, y_test = train_test_split(df_bow, news_df[\"sentiment\"], test_size=0.2, random_state=42)\n",
    "X_train.head()"
   ]
  },
  {
   "cell_type": "markdown",
   "metadata": {},
   "source": [
    "We can see that we have 8715 unique words as the column names and each entry is a vector representing an article and indicating the frequency of each of the unique words in that article.\n",
    "\n",
    "https://medium.com/@b.terryjack/nlp-pre-trained-sentiment-analysis-1eb52a9d742c\n",
    "\n",
    "https://medium.com/@sharma.tanish096/sentiment-analysis-using-pre-trained-models-and-transformer-28e9b9486641"
   ]
  },
  {
   "cell_type": "markdown",
   "metadata": {},
   "source": [
    "Now that we have our data processed and vectorized(bag-of-words presentation), we can start implementing Sentiment Analysis techniques/models in order to compare their performance. The proposed techniques for this research will be:\n",
    "\n",
    "Machine Learning Models\n",
    "- Logistic Regression\n",
    "- Support Vector Machines(SVM)\n",
    "- Naive Bayes\n",
    "- RNN-LSTM\n",
    "\n",
    "Pre-trained State-of-the-art Models\n",
    "- **BERT**(Bidirectional Encoder Representations from Transformers): Developed by Google.\n",
    "- **FinBERT**: a pre-trained sentiment analysis model tailored for the financial domain.\n",
    "- **VADER**: (Valence Aware Dictionary and Sentiment Reasoner): uses a bag of words approach with a table of positive and negative words. focused on social media sentiment\n",
    "    - Advantage: heuristics to increase the intensity with words like \"really\", \"so\", \"a bit\", \"not\". returns you the polarity of positive, negative, and neutral sentiments\n",
    "    - Disadvantage: Out of Vocab(OOV) words that were not seen before can not be interpreted.\n",
    "- **Textblob**: bag of words classifer\n",
    "    - Advantage: Subjectivity Analysis(how factual/opinionated a piece of text is),returns the tuple of polarity and subjectivity.\n",
    "    - Disadvantage: No heuristics so it won't evaluate the intensity of sentiment or negate a sentence.\n",
    "- **Flair**: character-level LSTM neural network based on other state-of-the-art models\n",
    "    - Advantage: takes sequences of letters and words into account when predicting, takes negations as well as intensifiers into account. Moreover, it can predict a sentiment for OOV words that it hasn't seen before such as typos.\n"
   ]
  },
  {
   "cell_type": "code",
   "execution_count": null,
   "metadata": {},
   "outputs": [],
   "source": [
    "from sklearn.linear_model import LogisticRegression\n",
    "from sklearn.metrics import accuracy_score, classification_report, confusion_matrix\n",
    "\n",
    "\n",
    "model = LogisticRegression(max_iter=1000, random_state=42)\n",
    "\n",
    "model.fit(X_train, y_train)\n",
    "\n",
    "y_pred = model.predict(X_test)\n",
    "\n",
    "accuracy = accuracy_score(y_test, y_pred)\n",
    "classification_report_result = classification_report(y_test, y_pred)\n",
    "confusion_mat = confusion_matrix(y_test, y_pred)\n",
    "\n",
    "print(f\"Accuracy: {accuracy}\")\n",
    "print(\"Classification Report:\")\n",
    "print(classification_report_result)\n",
    "print(\"Confusion Matrix:\")\n",
    "print(confusion_mat)\n"
   ]
  },
  {
   "cell_type": "code",
   "execution_count": null,
   "metadata": {},
   "outputs": [],
   "source": [
    "import nltk\n",
    "nltk.download('vader_lexicon')\n",
    "from nltk.sentiment.vader import SentimentIntensityAnalyzer\n",
    "\n",
    "sid = SentimentIntensityAnalyzer()\n",
    "sid.polarity_scores(\"happy sad good bad down loss\")"
   ]
  },
  {
   "cell_type": "code",
   "execution_count": null,
   "metadata": {},
   "outputs": [],
   "source": [
    "def vader_sentiment_analyzer(text):\n",
    "    scores = sid.polarity_scores(text)\n",
    "    return max(scores, key=lambda k: scores.get(k))\n",
    "\n",
    "news_df[\"VADER\"] = news_df[\"processed_text\"].apply(vader_sentiment_analyzer)\n",
    "news_df[\"sentiment\"].value_counts()\n"
   ]
  },
  {
   "cell_type": "code",
   "execution_count": null,
   "metadata": {},
   "outputs": [],
   "source": [
    "news_df[\"VADER\"].value_counts()"
   ]
  }
 ],
 "metadata": {
  "kernelspec": {
   "display_name": "Python 3",
   "language": "python",
   "name": "python3"
  },
  "language_info": {
   "codemirror_mode": {
    "name": "ipython",
    "version": 3
   },
   "file_extension": ".py",
   "mimetype": "text/x-python",
   "name": "python",
   "nbconvert_exporter": "python",
   "pygments_lexer": "ipython3",
   "version": "3.10.2"
  }
 },
 "nbformat": 4,
 "nbformat_minor": 2
}
