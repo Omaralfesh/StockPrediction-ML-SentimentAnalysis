{
 "cells": [
  {
   "cell_type": "markdown",
   "metadata": {},
   "source": [
    "### Code References\n",
    "\n",
    "\n",
    "VADER implementation: https://medium.com/@rslavanyageetha/vader-a-comprehensive-guide-to-sentiment-analysis-in-python-c4f1868b0d2e#:~:text=Sentiment%20analysis%20is%20a%20popular,trained%20model%20for%20sentiment%20analysis.\n",
    "\n",
    "TextBlob implementation: https://betterprogramming.pub/a-step-by-step-guide-to-using-textblob-for-nlp-with-python-157a7365a17b\n",
    "\n",
    "FinBERT implementation: https://huggingface.co/ProsusAI/finbert\n",
    "\n",
    "\n"
   ]
  },
  {
   "cell_type": "code",
   "execution_count": 38,
   "metadata": {},
   "outputs": [
    {
     "data": {
      "text/html": [
       "<div>\n",
       "<style scoped>\n",
       "    .dataframe tbody tr th:only-of-type {\n",
       "        vertical-align: middle;\n",
       "    }\n",
       "\n",
       "    .dataframe tbody tr th {\n",
       "        vertical-align: top;\n",
       "    }\n",
       "\n",
       "    .dataframe thead th {\n",
       "        text-align: right;\n",
       "    }\n",
       "</style>\n",
       "<table border=\"1\" class=\"dataframe\">\n",
       "  <thead>\n",
       "    <tr style=\"text-align: right;\">\n",
       "      <th></th>\n",
       "      <th>ticker</th>\n",
       "      <th>date</th>\n",
       "      <th>title</th>\n",
       "      <th>text</th>\n",
       "      <th>source</th>\n",
       "      <th>url</th>\n",
       "      <th>type</th>\n",
       "      <th>sentiment</th>\n",
       "    </tr>\n",
       "  </thead>\n",
       "  <tbody>\n",
       "    <tr>\n",
       "      <th>0</th>\n",
       "      <td>AAPL</td>\n",
       "      <td>Fri, 30 Dec 2022 19:51:00 -0500</td>\n",
       "      <td>Tesla, Apple, Southwest Airlines: Stocks That ...</td>\n",
       "      <td>Here are seven major companies whose stocks mo...</td>\n",
       "      <td>WSJ</td>\n",
       "      <td>https://www.wsj.com/articles/tesla-apple-south...</td>\n",
       "      <td>Article</td>\n",
       "      <td>Neutral</td>\n",
       "    </tr>\n",
       "    <tr>\n",
       "      <th>1</th>\n",
       "      <td>AAPL</td>\n",
       "      <td>Fri, 30 Dec 2022 14:52:52 -0500</td>\n",
       "      <td>Streaming ad services will have a price war, s...</td>\n",
       "      <td>Mark Douglas, MNTN Founder, joins 'The Exchang...</td>\n",
       "      <td>CNBC Television</td>\n",
       "      <td>https://www.youtube.com/watch?v=_OlMFW4QDx8</td>\n",
       "      <td>Video</td>\n",
       "      <td>Neutral</td>\n",
       "    </tr>\n",
       "  </tbody>\n",
       "</table>\n",
       "</div>"
      ],
      "text/plain": [
       "  ticker                             date  \\\n",
       "0   AAPL  Fri, 30 Dec 2022 19:51:00 -0500   \n",
       "1   AAPL  Fri, 30 Dec 2022 14:52:52 -0500   \n",
       "\n",
       "                                               title  \\\n",
       "0  Tesla, Apple, Southwest Airlines: Stocks That ...   \n",
       "1  Streaming ad services will have a price war, s...   \n",
       "\n",
       "                                                text           source  \\\n",
       "0  Here are seven major companies whose stocks mo...              WSJ   \n",
       "1  Mark Douglas, MNTN Founder, joins 'The Exchang...  CNBC Television   \n",
       "\n",
       "                                                 url     type sentiment  \n",
       "0  https://www.wsj.com/articles/tesla-apple-south...  Article   Neutral  \n",
       "1        https://www.youtube.com/watch?v=_OlMFW4QDx8    Video   Neutral  "
      ]
     },
     "execution_count": 38,
     "metadata": {},
     "output_type": "execute_result"
    }
   ],
   "source": [
    "import numpy as np\n",
    "import pandas as pd\n",
    "import matplotlib.pyplot as plt\n",
    "\n",
    "df = pd.read_csv(\"../../data/financial_news/stock_news_api/financial_news_data_stocknewsapi_alltickers.csv\")\n",
    "df.head(2)"
   ]
  },
  {
   "cell_type": "code",
   "execution_count": 39,
   "metadata": {},
   "outputs": [
    {
     "data": {
      "text/html": [
       "<div>\n",
       "<style scoped>\n",
       "    .dataframe tbody tr th:only-of-type {\n",
       "        vertical-align: middle;\n",
       "    }\n",
       "\n",
       "    .dataframe tbody tr th {\n",
       "        vertical-align: top;\n",
       "    }\n",
       "\n",
       "    .dataframe thead th {\n",
       "        text-align: right;\n",
       "    }\n",
       "</style>\n",
       "<table border=\"1\" class=\"dataframe\">\n",
       "  <thead>\n",
       "    <tr style=\"text-align: right;\">\n",
       "      <th></th>\n",
       "      <th>ticker</th>\n",
       "      <th>date</th>\n",
       "      <th>title</th>\n",
       "      <th>text</th>\n",
       "      <th>source</th>\n",
       "      <th>url</th>\n",
       "      <th>type</th>\n",
       "      <th>sentiment</th>\n",
       "      <th>concat_text</th>\n",
       "    </tr>\n",
       "  </thead>\n",
       "  <tbody>\n",
       "    <tr>\n",
       "      <th>0</th>\n",
       "      <td>AAPL</td>\n",
       "      <td>Fri, 30 Dec 2022 19:51:00 -0500</td>\n",
       "      <td>Tesla, Apple, Southwest Airlines: Stocks That ...</td>\n",
       "      <td>Here are seven major companies whose stocks mo...</td>\n",
       "      <td>WSJ</td>\n",
       "      <td>https://www.wsj.com/articles/tesla-apple-south...</td>\n",
       "      <td>Article</td>\n",
       "      <td>Neutral</td>\n",
       "      <td>Here are seven major companies whose stocks mo...</td>\n",
       "    </tr>\n",
       "    <tr>\n",
       "      <th>1</th>\n",
       "      <td>AAPL</td>\n",
       "      <td>Fri, 30 Dec 2022 14:52:52 -0500</td>\n",
       "      <td>Streaming ad services will have a price war, s...</td>\n",
       "      <td>Mark Douglas, MNTN Founder, joins 'The Exchang...</td>\n",
       "      <td>CNBC Television</td>\n",
       "      <td>https://www.youtube.com/watch?v=_OlMFW4QDx8</td>\n",
       "      <td>Video</td>\n",
       "      <td>Neutral</td>\n",
       "      <td>Mark Douglas, MNTN Founder, joins 'The Exchang...</td>\n",
       "    </tr>\n",
       "    <tr>\n",
       "      <th>2</th>\n",
       "      <td>AAPL</td>\n",
       "      <td>Fri, 30 Dec 2022 12:31:20 -0500</td>\n",
       "      <td>Apple CEO Cook conveyed app store curb concern...</td>\n",
       "      <td>Apple Inc Chief Executive Tim Cook asked Japan...</td>\n",
       "      <td>Reuters</td>\n",
       "      <td>https://www.reuters.com/technology/apple-ceo-c...</td>\n",
       "      <td>Article</td>\n",
       "      <td>Negative</td>\n",
       "      <td>Apple Inc Chief Executive Tim Cook asked Japan...</td>\n",
       "    </tr>\n",
       "  </tbody>\n",
       "</table>\n",
       "</div>"
      ],
      "text/plain": [
       "  ticker                             date  \\\n",
       "0   AAPL  Fri, 30 Dec 2022 19:51:00 -0500   \n",
       "1   AAPL  Fri, 30 Dec 2022 14:52:52 -0500   \n",
       "2   AAPL  Fri, 30 Dec 2022 12:31:20 -0500   \n",
       "\n",
       "                                               title  \\\n",
       "0  Tesla, Apple, Southwest Airlines: Stocks That ...   \n",
       "1  Streaming ad services will have a price war, s...   \n",
       "2  Apple CEO Cook conveyed app store curb concern...   \n",
       "\n",
       "                                                text           source  \\\n",
       "0  Here are seven major companies whose stocks mo...              WSJ   \n",
       "1  Mark Douglas, MNTN Founder, joins 'The Exchang...  CNBC Television   \n",
       "2  Apple Inc Chief Executive Tim Cook asked Japan...          Reuters   \n",
       "\n",
       "                                                 url     type sentiment  \\\n",
       "0  https://www.wsj.com/articles/tesla-apple-south...  Article   Neutral   \n",
       "1        https://www.youtube.com/watch?v=_OlMFW4QDx8    Video   Neutral   \n",
       "2  https://www.reuters.com/technology/apple-ceo-c...  Article  Negative   \n",
       "\n",
       "                                         concat_text  \n",
       "0  Here are seven major companies whose stocks mo...  \n",
       "1  Mark Douglas, MNTN Founder, joins 'The Exchang...  \n",
       "2  Apple Inc Chief Executive Tim Cook asked Japan...  "
      ]
     },
     "execution_count": 39,
     "metadata": {},
     "output_type": "execute_result"
    }
   ],
   "source": [
    "df[\"concat_text\"] = df[\"text\"] + ' ' + df[\"title\"]\n",
    "df.head(3)"
   ]
  },
  {
   "cell_type": "markdown",
   "metadata": {},
   "source": [
    "### Text preprocessing\n",
    "\n",
    "First we will perform text preprocessing using the following steps:\n",
    "\n",
    "1. Converting the text to lowercase to avoid duplicates.\n",
    "2. Remove punctation as it wouldn't make any difference in the analysis.\n",
    "3. Tokenization: Converting the article text into an array of words/tokens.\n",
    "4. Remove the stopwords that wouldn't make a difference to the sentiment analysis e.g. is, be, was, etc.\n",
    "5. Lemmatization or Stemming: Converting each word to its root word e.g. running->run, better->good.\n",
    "6. Add new columns to the dataset with the processed text "
   ]
  },
  {
   "cell_type": "markdown",
   "metadata": {},
   "source": [
    "The sentiment analysis functions get_vader_label, get_textblob_label, and get_finbert_label from the SentimentAnalysisVader module are applied to the preprocessed text column. These functions assign sentiment labels using VADER, TextBlob, and FinBERT. The resulting sentiment labels are stored in new columns."
   ]
  },
  {
   "cell_type": "code",
   "execution_count": 40,
   "metadata": {},
   "outputs": [
    {
     "name": "stdout",
     "output_type": "stream",
     "text": [
      "The autoreload extension is already loaded. To reload it, use:\n",
      "  %reload_ext autoreload\n"
     ]
    }
   ],
   "source": [
    "%load_ext autoreload\n",
    "%autoreload 2\n",
    "\n",
    "import sys\n",
    "sys.path.append('../../')\n",
    "from utils.SentimentAnalysis import preprocess_text, get_vader_label, get_textblob_label, get_finbert_label\n",
    "\n",
    "df[\"processed_text\"] = df[\"concat_text\"].apply(preprocess_text)\n",
    "\n",
    "\n",
    "df[\"VADER_label\"] = df[\"processed_text\"].apply(get_vader_label)\n",
    "df['TextBlob_label'] = df['processed_text'].apply(get_textblob_label)\n",
    "df[\"finbert_label\"] = df[\"processed_text\"].apply(get_finbert_label)\n",
    "\n"
   ]
  },
  {
   "cell_type": "code",
   "execution_count": 41,
   "metadata": {},
   "outputs": [
    {
     "data": {
      "text/plain": [
       "Text(0.5, 1.0, 'Count')"
      ]
     },
     "execution_count": 41,
     "metadata": {},
     "output_type": "execute_result"
    },
    {
     "data": {
      "image/png": "[encoded data removed]",
      "text/plain": [
       "<Figure size 1200x400 with 4 Axes>"
      ]
     },
     "metadata": {},
     "output_type": "display_data"
    }
   ],
   "source": [
    "plt.figure(figsize=(12, 4))\n",
    "\n",
    "plt.subplot(1, 4, 1)\n",
    "df[\"sentiment\"].value_counts().sort_index().plot(kind=\"bar\")\n",
    "plt.xlabel(\"Labeled Sentiment\")\n",
    "plt.title(\"Count\")\n",
    "\n",
    "plt.subplot(1, 4, 2)\n",
    "df[\"VADER_label\"].value_counts().sort_index().plot(kind=\"bar\")\n",
    "plt.xlabel(\"VADER Label\")\n",
    "plt.title(\"Count\")\n",
    "\n",
    "plt.subplot(1, 4, 3)\n",
    "df[\"TextBlob_label\"].value_counts().sort_index().plot(kind=\"bar\")\n",
    "plt.xlabel(\"TextBlob label\")\n",
    "plt.title(\"Count\")\n",
    "\n",
    "plt.subplot(1, 4, 4)\n",
    "df[\"finbert_label\"].value_counts().sort_index().plot(kind=\"bar\")\n",
    "plt.xlabel(\"FinBERT label\")\n",
    "plt.title(\"Count\")"
   ]
  },
  {
   "cell_type": "markdown",
   "metadata": {},
   "source": [
    "The following code snippet calculates evaluation metrics for different sentiment analysis models applied to a DataFrame containing financial news data.\n",
    "\n",
    "A function is defined to calculate evaluation metrics such as accuracy, precision, recall, and F1-score. Evaluation metrics are computed for each sentiment analysis model using the actual and predicted labels."
   ]
  },
  {
   "cell_type": "code",
   "execution_count": 42,
   "metadata": {},
   "outputs": [
    {
     "name": "stdout",
     "output_type": "stream",
     "text": [
      "VADER model metrics:\n",
      "Accuracy: 0.5422018720369545\n",
      "Precision: 0.5173096693187389\n",
      "Recall: 0.5422018720369545\n",
      "F1-score: 0.5118597219410541\n",
      "\n",
      "TextBlob model metrics:\n",
      "Accuracy: 0.4563799181490336\n",
      "Precision: 0.44120638346187274\n",
      "Recall: 0.4563799181490336\n",
      "F1-score: 0.4412132577778738\n",
      "\n",
      "FinBERT model metrics:\n",
      "Accuracy: 0.5206450828639734\n",
      "Precision: 0.6241299815203376\n",
      "Recall: 0.5206450828639734\n",
      "F1-score: 0.5355687181609934\n",
      "Accuracy of FinBERT model: 0.5206450828639734\n"
     ]
    },
    {
     "name": "stderr",
     "output_type": "stream",
     "text": [
      "c:\\Users\\omare\\.conda\\envs\\myenv\\Lib\\site-packages\\sklearn\\metrics\\_classification.py:1497: UndefinedMetricWarning: Recall is ill-defined and being set to 0.0 in labels with no true samples. Use `zero_division` parameter to control this behavior.\n",
      "  _warn_prf(average, modifier, f\"{metric.capitalize()} is\", len(result))\n"
     ]
    }
   ],
   "source": [
    "from sklearn.metrics import accuracy_score, precision_score, recall_score, f1_score\n",
    "\n",
    "# Get true labels from the \"Sentiment\" column\n",
    "true_labels = df['sentiment']\n",
    "# Get predicted labels from each model's output columns\n",
    "vader_predicted_labels = df['VADER_label']\n",
    "textblob_predicted_labels = df['TextBlob_label']\n",
    "finbert_predicted_labels = df['finbert_label']\n",
    "\n",
    "# Define a function to calculate evaluation metrics\n",
    "def calculate_metrics(true_labels, predicted_labels):\n",
    "    accuracy = accuracy_score(true_labels, predicted_labels)\n",
    "    precision = precision_score(true_labels, predicted_labels, average='weighted')\n",
    "    recall = recall_score(true_labels, predicted_labels, average='weighted')\n",
    "    f1 = f1_score(true_labels, predicted_labels, average='weighted')\n",
    "    return accuracy, precision, recall, f1\n",
    "\n",
    "# Calculate metrics for each model\n",
    "vader_accuracy, vader_precision, vader_recall, vader_f1 = calculate_metrics(true_labels, vader_predicted_labels)\n",
    "textblob_accuracy, textblob_precision, textblob_recall, textblob_f1 = calculate_metrics(true_labels, textblob_predicted_labels)\n",
    "finbert_accuracy, finbert_precision, finbert_recall, finbert_f1 = calculate_metrics(true_labels, finbert_predicted_labels)\n",
    "\n",
    "# Print metrics for each model\n",
    "print(\"VADER model metrics:\")\n",
    "print(\"Accuracy:\", vader_accuracy)\n",
    "print(\"Precision:\", vader_precision)\n",
    "print(\"Recall:\", vader_recall)\n",
    "print(\"F1-score:\", vader_f1)\n",
    "print()\n",
    "\n",
    "print(\"TextBlob model metrics:\")\n",
    "print(\"Accuracy:\", textblob_accuracy)\n",
    "print(\"Precision:\", textblob_precision)\n",
    "print(\"Recall:\", textblob_recall)\n",
    "print(\"F1-score:\", textblob_f1)\n",
    "print()\n",
    "\n",
    "print(\"FinBERT model metrics:\")\n",
    "print(\"Accuracy:\", finbert_accuracy)\n",
    "print(\"Precision:\", finbert_precision)\n",
    "print(\"Recall:\", finbert_recall)\n",
    "print(\"F1-score:\", finbert_f1)\n",
    "\n",
    "print(\"Accuracy of FinBERT model:\", finbert_accuracy)\n"
   ]
  },
  {
   "cell_type": "markdown",
   "metadata": {},
   "source": [
    "Plotting the evaluation metrics"
   ]
  },
  {
   "cell_type": "code",
   "execution_count": 47,
   "metadata": {},
   "outputs": [
    {
     "data": {
      "image/png": "[encoded data removed]",
      "text/plain": [
       "<Figure size 1000x600 with 1 Axes>"
      ]
     },
     "metadata": {},
     "output_type": "display_data"
    }
   ],
   "source": [
    "import seaborn as sns\n",
    "import matplotlib.pyplot as plt\n",
    "import numpy as np\n",
    "\n",
    "# Define model names and corresponding metrics\n",
    "models = ['VADER', 'TextBlob', 'FinBERT']\n",
    "metrics = ['Accuracy', 'Precision', 'Recall', 'F1-score']\n",
    "scores = {\n",
    "    'VADER': [vader_accuracy, vader_precision, vader_recall, vader_f1],\n",
    "    'TextBlob': [textblob_accuracy, textblob_precision, textblob_recall, textblob_f1],\n",
    "    'FinBERT': [finbert_accuracy, finbert_precision, finbert_recall, finbert_f1]\n",
    "}\n",
    "\n",
    "sns.set_style(\"whitegrid\")\n",
    "color_palette = sns.color_palette(\"Set2\")\n",
    "fig, ax = plt.subplots(figsize=(10, 6))\n",
    "bar_width = 0.2\n",
    "index = np.arange(len(metrics))\n",
    "\n",
    "for i, model in enumerate(models):\n",
    "    ax.bar(index + i * bar_width, scores[model], bar_width, label=model, color=color_palette[i])\n",
    "\n",
    "ax.set_xlabel('Metrics', fontsize=20)  \n",
    "ax.set_ylabel('Scores', fontsize=20) \n",
    "ax.set_title('StockNews API Dataset', fontsize=20) \n",
    "ax.set_xticks(index + bar_width * (len(models) - 1) / 2)\n",
    "ax.set_xticklabels(metrics, fontsize=18) \n",
    "ax.legend(fontsize=16) \n",
    "\n",
    "plt.tight_layout()\n",
    "plt.show()\n"
   ]
  },
  {
   "cell_type": "code",
   "execution_count": 44,
   "metadata": {},
   "outputs": [
    {
     "name": "stderr",
     "output_type": "stream",
     "text": [
      "c:\\Users\\omare\\.conda\\envs\\myenv\\Lib\\site-packages\\sklearn\\metrics\\_classification.py:1497: UndefinedMetricWarning: Recall is ill-defined and being set to 0.0 in labels with no true samples. Use `zero_division` parameter to control this behavior.\n",
      "  _warn_prf(average, modifier, f\"{metric.capitalize()} is\", len(result))\n"
     ]
    },
    {
     "name": "stdout",
     "output_type": "stream",
     "text": [
      "VADER model metrics:\n",
      "Accuracy: 0.5422019396399548 +/- 0.006175285787679555\n",
      "Precision: 0.5173642706565852 +/- 0.00618571641240725\n",
      "Recall: 0.5422019396399548 +/- 0.006175285787679555\n",
      "F1-score: 0.5118521845766903 +/- 0.005734015655744017\n",
      "\n",
      "TextBlob model metrics:\n",
      "Accuracy: 0.4563799983250654 +/- 0.0043071762746994076\n",
      "Precision: 0.44121719168376466 +/- 0.0059840506017979755\n",
      "Recall: 0.4563799983250654 +/- 0.0043071762746994076\n",
      "F1-score: 0.44118370152498054 +/- 0.00556413773068889\n",
      "\n",
      "FinBERT model metrics:\n",
      "Accuracy: 0.5206454902385798 +/- 0.008383171243080351\n",
      "Precision: 0.6242632154692853 +/- 0.01069244500763381\n",
      "Recall: 0.5206454902385798 +/- 0.008383171243080351\n",
      "F1-score: 0.5355499618837618 +/- 0.00836376058713082\n"
     ]
    },
    {
     "name": "stderr",
     "output_type": "stream",
     "text": [
      "c:\\Users\\omare\\.conda\\envs\\myenv\\Lib\\site-packages\\sklearn\\metrics\\_classification.py:1497: UndefinedMetricWarning: Recall is ill-defined and being set to 0.0 in labels with no true samples. Use `zero_division` parameter to control this behavior.\n",
      "  _warn_prf(average, modifier, f\"{metric.capitalize()} is\", len(result))\n"
     ]
    }
   ],
   "source": [
    "from sklearn.model_selection import StratifiedKFold\n",
    "from sklearn.metrics import accuracy_score, precision_score, recall_score, f1_score\n",
    "import numpy as np\n",
    "\n",
    "# Define the number of folds for cross-validation\n",
    "num_folds = 5  # You can adjust this number as needed\n",
    "\n",
    "# Define the features (processed_text) and target (sentiment) columns\n",
    "X = df['processed_text']\n",
    "y = df['sentiment']\n",
    "\n",
    "# Initialize StratifiedKFold\n",
    "kf = StratifiedKFold(n_splits=num_folds, shuffle=True, random_state=42)\n",
    "\n",
    "# Define lists to store evaluation metrics for each fold\n",
    "vader_accuracies = []\n",
    "textblob_accuracies = []\n",
    "finbert_accuracies = []\n",
    "\n",
    "vader_precisions = []\n",
    "vader_recalls = []\n",
    "vader_f1_scores = []\n",
    "\n",
    "textblob_precisions = []\n",
    "textblob_recalls = []\n",
    "textblob_f1_scores = []\n",
    "\n",
    "finbert_precisions = []\n",
    "finbert_recalls = []\n",
    "finbert_f1_scores = []\n",
    "\n",
    "# Iterate through each fold\n",
    "for train_index, test_index in kf.split(X, y):\n",
    "    X_train, X_test = X.iloc[train_index], X.iloc[test_index]\n",
    "    y_train, y_test = y.iloc[train_index], y.iloc[test_index]\n",
    "    \n",
    "    # Apply VADER model\n",
    "    vader_predicted_labels = X_test.apply(get_vader_label)\n",
    "    \n",
    "    # Calculate metrics for VADER model and append to the lists\n",
    "    vader_accuracies.append(accuracy_score(y_test, vader_predicted_labels))\n",
    "    vader_precisions.append(precision_score(y_test, vader_predicted_labels, average='weighted'))\n",
    "    vader_recalls.append(recall_score(y_test, vader_predicted_labels, average='weighted'))\n",
    "    vader_f1_scores.append(f1_score(y_test, vader_predicted_labels, average='weighted'))\n",
    "    \n",
    "    # Apply TextBlob model\n",
    "    textblob_predicted_labels = X_test.apply(get_textblob_label)\n",
    "    \n",
    "    # Calculate metrics for TextBlob model and append to the lists\n",
    "    textblob_accuracies.append(accuracy_score(y_test, textblob_predicted_labels))\n",
    "    textblob_precisions.append(precision_score(y_test, textblob_predicted_labels, average='weighted'))\n",
    "    textblob_recalls.append(recall_score(y_test, textblob_predicted_labels, average='weighted'))\n",
    "    textblob_f1_scores.append(f1_score(y_test, textblob_predicted_labels, average='weighted'))\n",
    "    \n",
    "    # Apply FinBERT model\n",
    "    finbert_predicted_labels = X_test.apply(get_finbert_label)\n",
    "    \n",
    "    # Calculate metrics for FinBERT model and append to the lists\n",
    "    finbert_accuracies.append(accuracy_score(y_test, finbert_predicted_labels))\n",
    "    finbert_precisions.append(precision_score(y_test, finbert_predicted_labels, average='weighted'))\n",
    "    finbert_recalls.append(recall_score(y_test, finbert_predicted_labels, average='weighted'))\n",
    "    finbert_f1_scores.append(f1_score(y_test, finbert_predicted_labels, average='weighted'))\n",
    "\n",
    "# Calculate mean and standard deviation across all folds for each model\n",
    "mean_vader_accuracy = np.mean(vader_accuracies)\n",
    "std_vader_accuracy = np.std(vader_accuracies)\n",
    "mean_vader_precision = np.mean(vader_precisions)\n",
    "mean_vader_recall = np.mean(vader_recalls)\n",
    "mean_vader_f1 = np.mean(vader_f1_scores)\n",
    "\n",
    "mean_textblob_accuracy = np.mean(textblob_accuracies)\n",
    "std_textblob_accuracy = np.std(textblob_accuracies)\n",
    "mean_textblob_precision = np.mean(textblob_precisions)\n",
    "mean_textblob_recall = np.mean(textblob_recalls)\n",
    "mean_textblob_f1 = np.mean(textblob_f1_scores)\n",
    "\n",
    "mean_finbert_accuracy = np.mean(finbert_accuracies)\n",
    "std_finbert_accuracy = np.std(finbert_accuracies)\n",
    "mean_finbert_precision = np.mean(finbert_precisions)\n",
    "mean_finbert_recall = np.mean(finbert_recalls)\n",
    "mean_finbert_f1 = np.mean(finbert_f1_scores)\n",
    "\n",
    "# Calculate standard deviation for precision, recall, and F1-score for each model\n",
    "std_vader_precision = np.std(vader_precisions)\n",
    "std_vader_recall = np.std(vader_recalls)\n",
    "std_vader_f1 = np.std(vader_f1_scores)\n",
    "\n",
    "std_textblob_precision = np.std(textblob_precisions)\n",
    "std_textblob_recall = np.std(textblob_recalls)\n",
    "std_textblob_f1 = np.std(textblob_f1_scores)\n",
    "\n",
    "std_finbert_precision = np.std(finbert_precisions)\n",
    "std_finbert_recall = np.std(finbert_recalls)\n",
    "std_finbert_f1 = np.std(finbert_f1_scores)\n",
    "\n",
    "# Print mean metrics and standard deviation for each model\n",
    "print(\"VADER model metrics:\")\n",
    "print(\"Accuracy:\", mean_vader_accuracy, \"+/-\", std_vader_accuracy)\n",
    "print(\"Precision:\", mean_vader_precision, \"+/-\", std_vader_precision)\n",
    "print(\"Recall:\", mean_vader_recall, \"+/-\", std_vader_recall)\n",
    "print(\"F1-score:\", mean_vader_f1, \"+/-\", std_vader_f1)\n",
    "print()\n",
    "\n",
    "print(\"TextBlob model metrics:\")\n",
    "print(\"Accuracy:\", mean_textblob_accuracy, \"+/-\", std_textblob_accuracy)\n",
    "print(\"Precision:\", mean_textblob_precision, \"+/-\", std_textblob_precision)\n",
    "print(\"Recall:\", mean_textblob_recall, \"+/-\", std_textblob_recall)\n",
    "print(\"F1-score:\", mean_textblob_f1, \"+/-\", std_textblob_f1)\n",
    "print()\n",
    "\n",
    "print(\"FinBERT model metrics:\")\n",
    "print(\"Accuracy:\", mean_finbert_accuracy, \"+/-\", std_finbert_accuracy)\n",
    "print(\"Precision:\", mean_finbert_precision, \"+/-\", std_finbert_precision)\n",
    "print(\"Recall:\", mean_finbert_recall, \"+/-\", std_finbert_recall)\n",
    "print(\"F1-score:\", mean_finbert_f1, \"+/-\", std_finbert_f1)\n",
    "\n"
   ]
  },
  {
   "cell_type": "markdown",
   "metadata": {},
   "source": []
  },
  {
   "cell_type": "markdown",
   "metadata": {},
   "source": []
  }
 ],
 "metadata": {
  "kernelspec": {
   "display_name": "venv",
   "language": "python",
   "name": "python3"
  },
  "language_info": {
   "codemirror_mode": {
    "name": "ipython",
    "version": 3
   },
   "file_extension": ".py",
   "mimetype": "text/x-python",
   "name": "python",
   "nbconvert_exporter": "python",
   "pygments_lexer": "ipython3",
   "version": "3.11.5"
  }
 },
 "nbformat": 4,
 "nbformat_minor": 2
}
